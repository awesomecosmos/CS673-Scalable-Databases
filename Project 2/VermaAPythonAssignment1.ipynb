{
  "cells": [
    {
      "attachments": {},
      "cell_type": "markdown",
      "metadata": {
        "collapsed": true,
        "id": "S0hfOJqUcBY1"
      },
      "source": [
        "# CS673 Assignment #1\n",
        "\n",
        "**Answer the following questions, after completing answering please download the .ipynb or .py file and submit the file.**\n",
        "* Name : Aayushi Verma\n",
        "* Sesion : CS673 Summer 2023\n",
        "* CRN : U01865004"
      ]
    },
    {
      "cell_type": "code",
      "execution_count": 1,
      "metadata": {},
      "outputs": [],
      "source": [
        "import numpy as np\n",
        "import pandas as pd"
      ]
    },
    {
      "attachments": {},
      "cell_type": "markdown",
      "metadata": {
        "collapsed": true,
        "id": "MABk3xshcBY2"
      },
      "source": [
        "## Question One\n",
        "**Write a brief description of all the following Object Types. To write the answers in below cell by double clicking on it.**\n",
        "\n",
        "**Points**: **5**\n"
      ]
    },
    {
      "attachments": {},
      "cell_type": "markdown",
      "metadata": {
        "id": "aL0Du7xdcBY3"
      },
      "source": [
        "Double Click HERE to edit this markdown cell and write answers.\n",
        "\n",
        "Numbers ( Integers and Float): Numerical data types, like integers and floats, represent numerical data and are treated as such. An integer is a whole number, e.g. 9 or 123, and a float is a floating point representation, i.e. it contains decimal places, like 3.14 or 7.0003.\n",
        "\n",
        "Strings: String data types represent data in a textual format. Strings contain alphanumeric characters and special characters.\n",
        "\n",
        "Lists: Lists are a collection of data points. These data points can be a combination of any data type, like string, float, integer, and even complext data structures like lists, tuples, and dictionaries! Lists hold these data points between square brackets [].\n",
        "\n",
        "Tuples: Tuples are an ordered collection of data points and hold the data between round brackets ().\n",
        "\n",
        "Dictionaries: Dictionaries are a collection of key-value pairs and associates a value by its key. It holds the data between curly brackets {}.\n"
      ]
    },
    {
      "attachments": {},
      "cell_type": "markdown",
      "metadata": {
        "id": "MBFc54NpcBY5"
      },
      "source": [
        "##  Question Two\n",
        "**The Table below holds the data that contains statistics about the programming languages used for issues on GitHub. The data is for 2021.**\n",
        "\n",
        "**Points :5**\n",
        "\n",
        "![A1.PNG](data:image/png;base64,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)\n",
        "\n"
      ]
    },
    {
      "attachments": {},
      "cell_type": "markdown",
      "metadata": {
        "id": "gYTUJwWUcBY8"
      },
      "source": [
        "Answer the following questions based on above table"
      ]
    },
    {
      "cell_type": "code",
      "execution_count": 2,
      "metadata": {
        "collapsed": true,
        "id": "L4H_eoNrcBY8"
      },
      "outputs": [
        {
          "name": "stdout",
          "output_type": "stream",
          "text": [
            "The total number of issues is 937568 in 2021.\n"
          ]
        }
      ],
      "source": [
        "#2.1 : Using print function print the total number the issues. (add/sum the vales using '+' arithmetic operator)\n",
        "\n",
        "total_issues = 1151 + 228703 + 328017 + 5733 + 13065 + 90268 + 102178 + 168453\n",
        "print('The total number of issues is {} in 2021.'.format(total_issues))"
      ]
    },
    {
      "cell_type": "code",
      "execution_count": 3,
      "metadata": {
        "id": "h7CH1u_gvi-L"
      },
      "outputs": [
        {
          "name": "stdout",
          "output_type": "stream",
          "text": [
            "Python and Java have a difference of 99314 issues in 2021.\n"
          ]
        }
      ],
      "source": [
        "#2.2 : Using print function print the difference between the Python and Java issues.(using '-' arithmetic operator)\n",
        "\n",
        "diff = 328017 - 228703\n",
        "print('{} and {} have a difference of {} issues in 2021.'.format('Python','Java',diff))"
      ]
    },
    {
      "cell_type": "code",
      "execution_count": 4,
      "metadata": {
        "id": "3CjoTpY_vlHs"
      },
      "outputs": [
        {
          "name": "stdout",
          "output_type": "stream",
          "text": [
            "Python has a total of 328017 issues in 2021.\n"
          ]
        }
      ],
      "source": [
        "#2.3 : Create a variable called ProLanguage and store the value 'Python' and using \".format()\" function print the language name and total number of issues.\n",
        "\n",
        "ProLanguage = 'Python'\n",
        "print('{} has a total of {} issues in 2021.'.format(ProLanguage, 328017))"
      ]
    },
    {
      "cell_type": "code",
      "execution_count": 5,
      "metadata": {
        "id": "36OLbN0Cvo7O"
      },
      "outputs": [
        {
          "name": "stdout",
          "output_type": "stream",
          "text": [
            "Scala has a monthly average of 1088.75 issues in 2021.\n"
          ]
        }
      ],
      "source": [
        "#2.4 From the table above print the average monthly issues for 'Scala'.\n",
        "\n",
        "print('{} has a monthly average of {} issues in 2021.'.format('Scala', 13065 / 12))"
      ]
    },
    {
      "cell_type": "code",
      "execution_count": 6,
      "metadata": {
        "id": "PTYCN4vauPi9"
      },
      "outputs": [
        {
          "name": "stdout",
          "output_type": "stream",
          "text": [
            "16 * 10 = 160\n",
            "45 / 5 = 9.0\n",
            "5 ** 3 = 125\n"
          ]
        }
      ],
      "source": [
        "#2.5\n",
        "# Performs the following arithmetical operations and displays the results using '.format()' method with appropriate description.\n",
        "# 16×10\n",
        "# 45÷5\n",
        "# 5 power 3\n",
        "\n",
        "print('16 * 10 = {}'.format(16 * 10))\n",
        "print('45 / 5 = {}'.format(45 / 5))\n",
        "print('5 ** 3 = {}'.format(5 ** 3))"
      ]
    },
    {
      "attachments": {},
      "cell_type": "markdown",
      "metadata": {
        "id": "LxKlnN-6vyoD"
      },
      "source": [
        "## Question Three\n",
        "**Perform the following Type casting.**\n",
        "\n",
        "**Points: 5**"
      ]
    },
    {
      "cell_type": "code",
      "execution_count": 7,
      "metadata": {
        "id": "TUdT9BI-wG58"
      },
      "outputs": [
        {
          "name": "stdout",
          "output_type": "stream",
          "text": [
            "The value of \"number\" as its default type is 5 (type: <class 'int'>).\n",
            "The value of \"number\" as float type is 5.0 (type: <class 'float'>).\n"
          ]
        }
      ],
      "source": [
        "#5.1 print the value of variable 'number' using print() with 'f' string' before and after type casting it to float.\n",
        "\n",
        "number = 5\n",
        "\n",
        "print(f'The value of \"number\" as its default type is {number} (type: {type(number)}).')\n",
        "print(f'The value of \"number\" as float type is {float(number)} (type: {type(float(number))}).')"
      ]
    },
    {
      "cell_type": "code",
      "execution_count": 8,
      "metadata": {
        "id": "YXgSGgg6wjcC"
      },
      "outputs": [
        {
          "name": "stdout",
          "output_type": "stream",
          "text": [
            "The value of \"amount\" as its default type is  6500 (type: <class 'str'>).\n",
            "The value of \"amount\" as float type is 6500 (type: <class 'int'>).\n"
          ]
        }
      ],
      "source": [
        "#5.2 print the value of ' amount' by converting it to integer\n",
        "\n",
        "amount = \" 6500\"\n",
        "\n",
        "print(f'The value of \"amount\" as its default type is {amount} (type: {type(amount)}).')\n",
        "print(f'The value of \"amount\" as float type is {int(amount)} (type: {type(int(amount))}).')"
      ]
    },
    {
      "attachments": {},
      "cell_type": "markdown",
      "metadata": {
        "id": "2E2kZcZzcBY_"
      },
      "source": [
        "## Question Four\n",
        "Perform the following string slicing.\n",
        "\n",
        "**Points : 10**"
      ]
    },
    {
      "attachments": {},
      "cell_type": "markdown",
      "metadata": {
        "id": "pqmtspH1cBZA"
      },
      "source": [
        "4.1 Given the string 'Python Programming', with the help of index get 'm'. Enter your code in the cell below\n",
        "\n",
        "**Points: 1**"
      ]
    },
    {
      "cell_type": "code",
      "execution_count": 9,
      "metadata": {
        "collapsed": true,
        "id": "F1DGfjF-cBZA"
      },
      "outputs": [
        {
          "name": "stdout",
          "output_type": "stream",
          "text": [
            "m\n"
          ]
        }
      ],
      "source": [
        "s = 'Python Programming'\n",
        "# Print out 'm' using indexing\n",
        "\n",
        "print(s[13])"
      ]
    },
    {
      "attachments": {},
      "cell_type": "markdown",
      "metadata": {
        "id": "110A93MvcBZB"
      },
      "source": [
        "4.2 Reverse the string 'Python Programming' using slicing:\n",
        "\n",
        "**Points: 1**"
      ]
    },
    {
      "cell_type": "code",
      "execution_count": 10,
      "metadata": {
        "collapsed": true,
        "id": "WP5iPKI8cBZB"
      },
      "outputs": [
        {
          "name": "stdout",
          "output_type": "stream",
          "text": [
            "gnimmargorP nohtyP\n"
          ]
        }
      ],
      "source": [
        "s = 'Python Programming'\n",
        "# Reverse the string using slicing\n",
        "\n",
        "print(s[::-1])"
      ]
    },
    {
      "attachments": {},
      "cell_type": "markdown",
      "metadata": {
        "id": "h9450vGScBZB"
      },
      "source": [
        "4.3 Given the string \"Python Programming\", give two methods (positive and negative indexing) of producing the letter 'i' using indexing.\n",
        "\n",
        "**Points: 2**"
      ]
    },
    {
      "cell_type": "code",
      "execution_count": 11,
      "metadata": {
        "collapsed": true,
        "id": "3IvgQWBOcBZC"
      },
      "outputs": [
        {
          "name": "stdout",
          "output_type": "stream",
          "text": [
            "i\n",
            "i\n"
          ]
        }
      ],
      "source": [
        "s ='Python Programming'\n",
        "# Print out the 'i'\n",
        "\n",
        "# Method 1:\n",
        "print(s[15])\n",
        "\n",
        "# Method 2:\n",
        "print(s[-3])"
      ]
    },
    {
      "attachments": {},
      "cell_type": "markdown",
      "metadata": {
        "id": "1rHyXDwW0dux"
      },
      "source": [
        "4.4: Given the string \"New York City\", extract the sub-string \"York\"\n",
        "\n",
        "**Points :1**"
      ]
    },
    {
      "cell_type": "code",
      "execution_count": 12,
      "metadata": {
        "id": "P4BavXfdy5-G"
      },
      "outputs": [
        {
          "name": "stdout",
          "output_type": "stream",
          "text": [
            "York\n"
          ]
        }
      ],
      "source": [
        "s = 'New York City'\n",
        "\n",
        "print(s[4:8])"
      ]
    },
    {
      "attachments": {},
      "cell_type": "markdown",
      "metadata": {
        "id": "9CjPaFxj09er"
      },
      "source": [
        "4.5 : Given the string \"New York City\", extract the string 'NwYr iy'\n",
        "\n",
        "**Points:2**"
      ]
    },
    {
      "cell_type": "code",
      "execution_count": 13,
      "metadata": {
        "colab": {
          "base_uri": "https://localhost:8080/",
          "height": 35
        },
        "id": "Qfp8wM0208lc",
        "outputId": "b5fc54aa-97e5-4f02-df6d-4f1be2d1dfd1"
      },
      "outputs": [
        {
          "name": "stdout",
          "output_type": "stream",
          "text": [
            "NwYr iy\n"
          ]
        }
      ],
      "source": [
        "print(s[0] + s[2] + s[4] + s[6] + s[8] + s[10] + s[-1])"
      ]
    },
    {
      "attachments": {},
      "cell_type": "markdown",
      "metadata": {
        "id": "8bKaicvc2LzT"
      },
      "source": [
        "4.6 : Given the string \"New York City\", extract the index of the letter 'Y'.\n",
        "example : The output is ***index of 'C' is 9***\n",
        "\n",
        "**Points:1**"
      ]
    },
    {
      "cell_type": "code",
      "execution_count": 14,
      "metadata": {
        "colab": {
          "base_uri": "https://localhost:8080/"
        },
        "id": "e_mt54Jm2UvZ",
        "outputId": "a1bbe917-0594-455e-d269-c03973eb08b1"
      },
      "outputs": [
        {
          "name": "stdout",
          "output_type": "stream",
          "text": [
            "4\n"
          ]
        }
      ],
      "source": [
        "cityname = \"New York City\"\n",
        "\n",
        "print(s.index('Y'))"
      ]
    },
    {
      "attachments": {},
      "cell_type": "markdown",
      "metadata": {
        "id": "tbmS8-yG1nXn"
      },
      "source": [
        "4.6 : find the length of the string \" Python is powerful... and fast;plays well with others; runs everywhere; is friendly & easy to learn; is Open.\"\n",
        "\n",
        "**Points : 2**"
      ]
    },
    {
      "cell_type": "code",
      "execution_count": 15,
      "metadata": {
        "id": "uwTkNwCA1izw"
      },
      "outputs": [
        {
          "name": "stdout",
          "output_type": "stream",
          "text": [
            "110\n"
          ]
        }
      ],
      "source": [
        "s = \" Python is powerful... and fast;plays well with others; runs everywhere; is friendly & easy to learn; is Open.\"\n",
        "print(len(s))"
      ]
    },
    {
      "attachments": {},
      "cell_type": "markdown",
      "metadata": {
        "id": "AI-9eMHpcBZD"
      },
      "source": [
        "## Lists"
      ]
    },
    {
      "attachments": {},
      "cell_type": "markdown",
      "metadata": {
        "id": "2_lyTHqs4xzF"
      },
      "source": [
        "## Question Five\n",
        "\n",
        "\n",
        "**Points : 10**\n"
      ]
    },
    {
      "attachments": {},
      "cell_type": "markdown",
      "metadata": {
        "id": "_KiUBOztcBZD"
      },
      "source": [
        "5.1 Create two lists from the table below.\n",
        "\n",
        "![A1.PNG](data:image/png;base64,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)"
      ]
    },
    {
      "cell_type": "code",
      "execution_count": 16,
      "metadata": {
        "collapsed": true,
        "id": "LKs_RnaZcBZE"
      },
      "outputs": [],
      "source": [
        "# Numeric List 1151,228703...\n",
        "num_issues = [1151,228703,328017,5733,13065,90268,102178,168453]"
      ]
    },
    {
      "cell_type": "code",
      "execution_count": 17,
      "metadata": {
        "collapsed": true,
        "id": "--1hFUExcBZE"
      },
      "outputs": [],
      "source": [
        "# String List Fortran, Java, ....\n",
        "lang = ['Fortran','Java','Python','R','Scala','C','C#','C++']"
      ]
    },
    {
      "attachments": {},
      "cell_type": "markdown",
      "metadata": {
        "id": "i3GPSmiUcBZF"
      },
      "source": [
        "5.2 Reassign 'R' in this above list with 'HTML' and print it."
      ]
    },
    {
      "cell_type": "code",
      "execution_count": 18,
      "metadata": {
        "collapsed": true,
        "id": "nvLDLZNZcBZF"
      },
      "outputs": [
        {
          "name": "stdout",
          "output_type": "stream",
          "text": [
            "['Fortran', 'Java', 'Python', 'HTML', 'Scala', 'C', 'C#', 'C++']\n"
          ]
        }
      ],
      "source": [
        "\n",
        "lang[3] = 'HTML'\n",
        "print(lang)\n"
      ]
    },
    {
      "attachments": {},
      "cell_type": "markdown",
      "metadata": {
        "id": "-buyM2D9cBZF"
      },
      "source": [
        "5.3 Arrange the Numeric list in desending order."
      ]
    },
    {
      "cell_type": "code",
      "execution_count": 19,
      "metadata": {
        "collapsed": true,
        "id": "6w_wMOBDcBZG"
      },
      "outputs": [
        {
          "name": "stdout",
          "output_type": "stream",
          "text": [
            "[328017, 228703, 168453, 102178, 90268, 13065, 5733, 1151]\n"
          ]
        }
      ],
      "source": [
        "num_issues.sort(reverse=True)\n",
        "print(num_issues)"
      ]
    },
    {
      "attachments": {},
      "cell_type": "markdown",
      "metadata": {
        "id": "K19IxUZtQ27B"
      },
      "source": [
        "5.4 Insert 'CSS' at index 3 in String List "
      ]
    },
    {
      "cell_type": "code",
      "execution_count": 20,
      "metadata": {
        "id": "q1E4uEe-QxBf"
      },
      "outputs": [
        {
          "name": "stdout",
          "output_type": "stream",
          "text": [
            "['Fortran', 'Java', 'Python', 'CSS', 'Scala', 'C', 'C#', 'C++']\n"
          ]
        }
      ],
      "source": [
        "lang[3] = 'CSS'\n",
        "print(lang)"
      ]
    },
    {
      "attachments": {},
      "cell_type": "markdown",
      "metadata": {
        "id": "Mo4hAWggRDZp"
      },
      "source": [
        "5.5 Find the index of the \"Scala\" from String list."
      ]
    },
    {
      "cell_type": "code",
      "execution_count": 21,
      "metadata": {
        "id": "J6D_buyCRwNm"
      },
      "outputs": [
        {
          "data": {
            "text/plain": [
              "4"
            ]
          },
          "execution_count": 21,
          "metadata": {},
          "output_type": "execute_result"
        }
      ],
      "source": [
        "lang.index('Scala')"
      ]
    },
    {
      "attachments": {},
      "cell_type": "markdown",
      "metadata": {
        "id": "3RTt3IpLcBZG"
      },
      "source": [
        "## Dictionaries"
      ]
    },
    {
      "attachments": {},
      "cell_type": "markdown",
      "metadata": {
        "id": "KjgadBzncBZG"
      },
      "source": [
        "## Question Six\n",
        "\n",
        "\n",
        "**Points :10**\n",
        "\n",
        "Create a dictionary object from the table.\n",
        "\n",
        "![A1.PNG](data:image/png;base64,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)\n"
      ]
    },
    {
      "cell_type": "code",
      "execution_count": 22,
      "metadata": {},
      "outputs": [],
      "source": [
        "github_dict = {\n",
        "    'Fortran':1151,\n",
        "    'Java':228703,\n",
        "    'Python':328017,\n",
        "    'R':5733,\n",
        "    'Scala':13065,\n",
        "    'C':90268,\n",
        "    'C#':102178,\n",
        "    'C++':168453\n",
        "}"
      ]
    },
    {
      "attachments": {},
      "cell_type": "markdown",
      "metadata": {
        "id": "5FTjTy2OS6ev"
      },
      "source": [
        "6.1 Print the value of 'Python'"
      ]
    },
    {
      "cell_type": "code",
      "execution_count": 23,
      "metadata": {
        "collapsed": true,
        "id": "eGoKX-05cBZG"
      },
      "outputs": [
        {
          "name": "stdout",
          "output_type": "stream",
          "text": [
            "328017\n"
          ]
        }
      ],
      "source": [
        "print(github_dict['Python'])"
      ]
    },
    {
      "attachments": {},
      "cell_type": "markdown",
      "metadata": {
        "id": "5gNLX6_STTxJ"
      },
      "source": [
        "6.2 Using function print keys, values and items of the dictionary."
      ]
    },
    {
      "cell_type": "code",
      "execution_count": 24,
      "metadata": {},
      "outputs": [
        {
          "data": {
            "text/plain": [
              "dict_keys(['Fortran', 'Java', 'Python', 'R', 'Scala', 'C', 'C#', 'C++'])"
            ]
          },
          "execution_count": 24,
          "metadata": {},
          "output_type": "execute_result"
        }
      ],
      "source": [
        "github_dict.keys()"
      ]
    },
    {
      "cell_type": "code",
      "execution_count": 25,
      "metadata": {},
      "outputs": [
        {
          "data": {
            "text/plain": [
              "dict_values([1151, 228703, 328017, 5733, 13065, 90268, 102178, 168453])"
            ]
          },
          "execution_count": 25,
          "metadata": {},
          "output_type": "execute_result"
        }
      ],
      "source": [
        "github_dict.values()"
      ]
    },
    {
      "cell_type": "code",
      "execution_count": 26,
      "metadata": {
        "collapsed": true,
        "id": "U9K_FLBocBZH"
      },
      "outputs": [
        {
          "data": {
            "text/plain": [
              "dict_items([('Fortran', 1151), ('Java', 228703), ('Python', 328017), ('R', 5733), ('Scala', 13065), ('C', 90268), ('C#', 102178), ('C++', 168453)])"
            ]
          },
          "execution_count": 26,
          "metadata": {},
          "output_type": "execute_result"
        }
      ],
      "source": [
        "github_dict.items()\n"
      ]
    },
    {
      "attachments": {},
      "cell_type": "markdown",
      "metadata": {
        "id": "OEi4DqxnVt6n"
      },
      "source": [
        "6.3 #Grab Python"
      ]
    },
    {
      "cell_type": "code",
      "execution_count": 27,
      "metadata": {
        "collapsed": true,
        "id": "KoUlByj7cBZH"
      },
      "outputs": [
        {
          "data": {
            "text/plain": [
              "'Python'"
            ]
          },
          "execution_count": 27,
          "metadata": {},
          "output_type": "execute_result"
        }
      ],
      "source": [
        "d = {'k1':[{'nest_key':['this is CS632',['Python']]}]}\n",
        "\n",
        "d['k1'][0]['nest_key'][1][0]"
      ]
    },
    {
      "attachments": {},
      "cell_type": "markdown",
      "metadata": {
        "id": "uTaFcnATVyAO"
      },
      "source": [
        "6.4 Extract 'hello'"
      ]
    },
    {
      "cell_type": "code",
      "execution_count": 28,
      "metadata": {
        "collapsed": true,
        "id": "QfaOrfKvcBZI"
      },
      "outputs": [
        {
          "data": {
            "text/plain": [
              "'hello'"
            ]
          },
          "execution_count": 28,
          "metadata": {},
          "output_type": "execute_result"
        }
      ],
      "source": [
        "d = {'k1':[1,2,{'k2':['this is tricky',{'tough':[1,2,['hello']]}]}]}\n",
        "\n",
        "d['k1'][2]['k2'][1]['tough'][2][0]"
      ]
    },
    {
      "attachments": {},
      "cell_type": "markdown",
      "metadata": {
        "id": "Xk84ULBEcBZJ"
      },
      "source": [
        "6.5 Is sorting a dictionary possible? Why or why not?<br><br>\n",
        "\n",
        "\n",
        "Answer : It is not possible to sort a dictionary because by definition, it is immutable. "
      ]
    },
    {
      "attachments": {},
      "cell_type": "markdown",
      "metadata": {
        "id": "iozXKIu9cBZJ"
      },
      "source": [
        "## Tuples\n",
        "\n",
        "## Question Seven\n",
        "\n",
        "\n",
        "**Points :5**"
      ]
    },
    {
      "attachments": {},
      "cell_type": "markdown",
      "metadata": {
        "id": "eqX8TWt_cBZK"
      },
      "source": [
        "7.1 What is the major difference between tuples and lists? (double click to respond.)\n",
        "\n",
        "\n",
        "Answer: Lists are mutable, whereas tuples are immutable. Mutable means that elements can be modified, added or removed after its creation, whereas for immutable tuples, their elements cannot be modified, added or removed.\n"
      ]
    },
    {
      "attachments": {},
      "cell_type": "markdown",
      "metadata": {
        "id": "Plrl6LBMcBZM"
      },
      "source": [
        "7.2 convert one of the list which you have created into tuple?"
      ]
    },
    {
      "cell_type": "code",
      "execution_count": 29,
      "metadata": {},
      "outputs": [
        {
          "data": {
            "text/plain": [
              "(0, 1, 2)"
            ]
          },
          "execution_count": 29,
          "metadata": {},
          "output_type": "execute_result"
        }
      ],
      "source": [
        "lst = [0, 1, 2]\n",
        "tup = tuple(lst)\n",
        "tup"
      ]
    },
    {
      "attachments": {},
      "cell_type": "markdown",
      "metadata": {
        "id": "Cy2trzRNcBZM"
      },
      "source": [
        "## Sets \n",
        "\n"
      ]
    },
    {
      "attachments": {},
      "cell_type": "markdown",
      "metadata": {
        "id": "NRc8xn7JcBZN"
      },
      "source": [
        "7.3 What is unique about a set?<br><br>\n",
        "\n",
        "Sets contain unique elements only, and are immutable. The contents of a set can be mutable though. They are also unordered, which means they do not maintain a specific order of elements. They support set operations as well."
      ]
    },
    {
      "attachments": {},
      "cell_type": "markdown",
      "metadata": {
        "id": "Y2mSJT7bcBZO"
      },
      "source": [
        "7.4 Use a set to find the unique values of the list below:"
      ]
    },
    {
      "cell_type": "code",
      "execution_count": 30,
      "metadata": {
        "collapsed": true,
        "id": "y7phszYycBZO"
      },
      "outputs": [
        {
          "name": "stdout",
          "output_type": "stream",
          "text": [
            "{1, 2, 33, 4, 3, 11, 22}\n"
          ]
        }
      ],
      "source": [
        "list5 = [1,2,2,33,4,4,11,22,3,3,2]\n",
        "\n",
        "\n",
        "print(set(list5))"
      ]
    },
    {
      "attachments": {},
      "cell_type": "markdown",
      "metadata": {
        "id": "ot0FnHF0cBZP"
      },
      "source": [
        "## Booleans\n"
      ]
    },
    {
      "attachments": {},
      "cell_type": "markdown",
      "metadata": {
        "id": "B02AHvQycBZP"
      },
      "source": [
        "7.5 What will be the resulting Boolean of the following pieces of code (answer fist then check by typing it in!)"
      ]
    },
    {
      "cell_type": "code",
      "execution_count": 31,
      "metadata": {
        "collapsed": true,
        "id": "9eMthx1FcBZQ"
      },
      "outputs": [
        {
          "data": {
            "text/plain": [
              "False"
            ]
          },
          "execution_count": 31,
          "metadata": {},
          "output_type": "execute_result"
        }
      ],
      "source": [
        "# What the outcome?\n",
        "2 > 3 # False"
      ]
    },
    {
      "attachments": {},
      "cell_type": "markdown",
      "metadata": {
        "id": "XfU24AwxXI7k"
      },
      "source": [
        "## Question Eight\n",
        "Points : 5"
      ]
    },
    {
      "attachments": {},
      "cell_type": "markdown",
      "metadata": {
        "id": "F4BcjT2sV9gN"
      },
      "source": [
        "\n",
        "One lap around a running track is exactly 0.25 miles. Write the function miles_to_laps() that takes a number of miles as an argument and returns the number of laps. Complete the program to output the number of laps.\n",
        "\n",
        "Output each floating-point value with two digits after the decimal point, which can be achieved as follows:\n",
        "print('{:.2f}'.format(your_value))\n",
        "\n",
        "    Ex: If the input is:1.5\n",
        "    the output is:6.00\n",
        "    Ex: If the input is:2.2\n",
        "    the output is:8.80\n",
        "    Your program must define and call the following function:\n",
        "            def miles_to_laps(user_miles)"
      ]
    },
    {
      "cell_type": "code",
      "execution_count": 32,
      "metadata": {
        "collapsed": true,
        "id": "LgJtXasi8P8j"
      },
      "outputs": [],
      "source": [
        "# define your function here:\n",
        "def miles_to_laps(user_miles):\n",
        "  n_laps = '{:.2f}'.format(user_miles / 0.25)\n",
        "  return n_laps"
      ]
    },
    {
      "cell_type": "code",
      "execution_count": 33,
      "metadata": {},
      "outputs": [
        {
          "name": "stdout",
          "output_type": "stream",
          "text": [
            "6.00\n",
            "8.80\n"
          ]
        }
      ],
      "source": [
        "print(miles_to_laps(1.5))\n",
        "print(miles_to_laps(2.2))"
      ]
    },
    {
      "cell_type": "code",
      "execution_count": 34,
      "metadata": {
        "id": "tQTA2xzy8P8k",
        "outputId": "f233b002-1c47-4b06-d569-6732057b8dd2"
      },
      "outputs": [],
      "source": [
        "if __name__ ==' __main__':\n",
        "    print(miles_to_laps(1.5))\n",
        "    print(miles_to_laps(2.2))"
      ]
    },
    {
      "attachments": {},
      "cell_type": "markdown",
      "metadata": {
        "id": "u92B0DdfX2oD"
      },
      "source": [
        "## Question Nine\n",
        "Points : 5"
      ]
    },
    {
      "attachments": {},
      "cell_type": "markdown",
      "metadata": {
        "id": "0y7wX2Oa8P8l"
      },
      "source": [
        "\n",
        "Write a function that checks whether a number is in a given range (inclusive of high and low)"
      ]
    },
    {
      "cell_type": "code",
      "execution_count": 35,
      "metadata": {
        "collapsed": true,
        "id": "CEM0B2pe8P8m"
      },
      "outputs": [],
      "source": [
        "def ran_check(num,low,high):\n",
        "    if num >= low and num <= high:\n",
        "        assertion = f'{num} is between {low} and {high}.'\n",
        "    else:\n",
        "        assertion = f'{num} is not between {low} and {high}.'\n",
        "    return assertion"
      ]
    },
    {
      "cell_type": "code",
      "execution_count": 36,
      "metadata": {
        "id": "m2c1E3We8P8n",
        "outputId": "fdce8be0-0f87-4d11-9aba-9e642773370f"
      },
      "outputs": [
        {
          "data": {
            "text/plain": [
              "'5 is between 2 and 7.'"
            ]
          },
          "execution_count": 36,
          "metadata": {},
          "output_type": "execute_result"
        }
      ],
      "source": [
        "# Check\n",
        "ran_check(5,2,7)"
      ]
    },
    {
      "cell_type": "code",
      "execution_count": 37,
      "metadata": {},
      "outputs": [
        {
          "data": {
            "text/plain": [
              "'10 is not between 11 and 12.'"
            ]
          },
          "execution_count": 37,
          "metadata": {},
          "output_type": "execute_result"
        }
      ],
      "source": [
        "ran_check(10,11,12)"
      ]
    },
    {
      "attachments": {},
      "cell_type": "markdown",
      "metadata": {
        "id": "ssMOQEqj8P8o"
      },
      "source": [
        "Write a function that checks whether a number is in a given range return a boolean:"
      ]
    },
    {
      "cell_type": "code",
      "execution_count": 38,
      "metadata": {
        "collapsed": true,
        "id": "EfoWCKHU8P8o"
      },
      "outputs": [],
      "source": [
        "def ran_bool(num,low,high):\n",
        "    if num >= low and num <= high:\n",
        "        assertion = True\n",
        "    else:\n",
        "        assertion = False\n",
        "    return assertion"
      ]
    },
    {
      "cell_type": "code",
      "execution_count": 39,
      "metadata": {
        "id": "9VtNSTkZ8P8p",
        "outputId": "02e20377-8e97-4496-f8fa-6cf8bf0a125e"
      },
      "outputs": [
        {
          "data": {
            "text/plain": [
              "True"
            ]
          },
          "execution_count": 39,
          "metadata": {},
          "output_type": "execute_result"
        }
      ],
      "source": [
        "ran_bool(3,1,10)"
      ]
    },
    {
      "attachments": {},
      "cell_type": "markdown",
      "metadata": {
        "id": "T3c9I8EeYEFj"
      },
      "source": [
        "## Question Ten\n",
        "Points : 5"
      ]
    },
    {
      "attachments": {},
      "cell_type": "markdown",
      "metadata": {
        "id": "slZHyP5l8P8q"
      },
      "source": [
        "Write a Python function that accepts a string and calculates the number of upper case letters and lower case letters.\n",
        "\n",
        "    Sample String : 'Hello Students, how are you this fine Tuesday?'\n",
        "    Expected Output : \n",
        "    No. of Upper case characters : 3\n",
        "    No. of Lower case Characters : 34\n",
        "\n",
        "Note: You can use tring methods **.isupper()** and **.islower()**\n"
      ]
    },
    {
      "cell_type": "code",
      "execution_count": 40,
      "metadata": {
        "collapsed": true,
        "id": "Ol_OBmm28P8q"
      },
      "outputs": [],
      "source": [
        "def upper_lower(s):\n",
        "    n_upper = 0\n",
        "    n_lower = 0\n",
        "    for i in s:\n",
        "        if i.isupper():\n",
        "            n_upper += 1\n",
        "        elif i.islower():\n",
        "            n_lower += 1\n",
        "        else:\n",
        "            pass\n",
        "    print(f'No. of Upper case characters : {n_upper}')\n",
        "    print(f'No. of Lower case Characters : {n_lower}')"
      ]
    },
    {
      "cell_type": "code",
      "execution_count": 41,
      "metadata": {
        "id": "zWWR_09c8P8r"
      },
      "outputs": [
        {
          "name": "stdout",
          "output_type": "stream",
          "text": [
            "No. of Upper case characters : 3\n",
            "No. of Lower case Characters : 34\n"
          ]
        }
      ],
      "source": [
        "s = 'Hello Students, how are you this fine Tuesday?'\n",
        "upper_lower(s)"
      ]
    },
    {
      "attachments": {},
      "cell_type": "markdown",
      "metadata": {
        "id": "5olwRuwIZqNU"
      },
      "source": [
        "## Question Eleven\n",
        "Points : 5"
      ]
    },
    {
      "attachments": {},
      "cell_type": "markdown",
      "metadata": {
        "id": "7zUFQ41G8P8s"
      },
      "source": [
        "Write a function to check if the given year is a leap year. A leap year is when a year has 366 days: An extra day, February 29th. The requirements for a given year to be a leap year are:\n",
        "\n",
        "    1) The year must be divisible by 4\n",
        "\n",
        "    2) If the year is a century year (1700, 1800, etc.), \n",
        "       the year must be evenly divisible by 400\n",
        "\n",
        "Some example leap years are 1600, 1712, and 2016.\n",
        "\n",
        "Funtion should takes in a year and determines whether that year is a leap year.\n",
        "\n",
        "    Ex: If the input is: 1712\n",
        "        the output is: 1712 is a leap year. "
      ]
    },
    {
      "cell_type": "code",
      "execution_count": 42,
      "metadata": {
        "id": "5C-ujE18Z1DJ"
      },
      "outputs": [],
      "source": [
        "#Define your function here\n",
        "def leap_year(year):\n",
        "    is_leap_year = None\n",
        "    if year % 2 == 0:\n",
        "        is_leap_year = True\n",
        "        print(f'{year} is a leap year.')\n",
        "    else:\n",
        "        is_leap_year = False\n",
        "        print(f'{year} is not a leap year.')"
      ]
    },
    {
      "cell_type": "code",
      "execution_count": 43,
      "metadata": {},
      "outputs": [
        {
          "name": "stdout",
          "output_type": "stream",
          "text": [
            "1600 is a leap year.\n",
            "1712 is a leap year.\n",
            "2016 is a leap year.\n",
            "2023 is not a leap year.\n"
          ]
        }
      ],
      "source": [
        "leap_year(1600)\n",
        "leap_year(1712)\n",
        "leap_year(2016)\n",
        "leap_year(2023)"
      ]
    },
    {
      "attachments": {},
      "cell_type": "markdown",
      "metadata": {
        "id": "idUf_Py6aGXk"
      },
      "source": [
        "## Question Twelve\n",
        "Points : 2.5"
      ]
    },
    {
      "attachments": {},
      "cell_type": "markdown",
      "metadata": {
        "id": "c7snZQu28P8t"
      },
      "source": [
        "**Write a Python function to multiply all the numbers in a list.**\n",
        "\n",
        "    Sample List : [1, 2, 3, -4]\n",
        "    Expected Output : -24"
      ]
    },
    {
      "cell_type": "code",
      "execution_count": 44,
      "metadata": {
        "collapsed": true,
        "id": "Xe8YuS6G8P8t"
      },
      "outputs": [],
      "source": [
        "def multiply(numbers):  \n",
        "   final_product = 1\n",
        "   for i in numbers:\n",
        "      final_product *= i\n",
        "   return final_product"
      ]
    },
    {
      "cell_type": "code",
      "execution_count": 45,
      "metadata": {
        "id": "dxkO6chD8P8u",
        "outputId": "dc19676b-d5b0-443e-a82a-7f1113d703a3"
      },
      "outputs": [
        {
          "data": {
            "text/plain": [
              "-24"
            ]
          },
          "execution_count": 45,
          "metadata": {},
          "output_type": "execute_result"
        }
      ],
      "source": [
        "multiply([1,2,3,-4])"
      ]
    },
    {
      "attachments": {},
      "cell_type": "markdown",
      "metadata": {
        "id": "M9Rfe1OOaOcO"
      },
      "source": [
        "## Question Thirteen\n",
        "Points : 2.5"
      ]
    },
    {
      "attachments": {},
      "cell_type": "markdown",
      "metadata": {
        "id": "RoyqHLjc8P8u"
      },
      "source": [
        "**Write a Python function that checks whether a word or phrase is palindrome or not.**\n",
        "\n",
        "Note: A palindrome is word, phrase, or sequence that reads the same backward as forward.\n",
        "\n",
        "    e.g., madam,kayak,racecar\n",
        "\n",
        "    input : madam\n",
        "    output: Given 'madam' is a palidrome."
      ]
    },
    {
      "cell_type": "code",
      "execution_count": 46,
      "metadata": {
        "collapsed": true,
        "id": "sFvhrDVD8P8v"
      },
      "outputs": [],
      "source": [
        "def palindrome(s):\n",
        "     reversed_str = s[::-1]\n",
        "     if s == reversed_str:\n",
        "          print(f'Given {s} is a palindrome.')\n",
        "     else:\n",
        "          print(f'Given {s} is not a palindrome.')"
      ]
    },
    {
      "cell_type": "code",
      "execution_count": 47,
      "metadata": {
        "id": "zdl8a6PV8P8v",
        "outputId": "36313c08-f30c-40b7-a94c-d6b315cdd56e"
      },
      "outputs": [
        {
          "name": "stdout",
          "output_type": "stream",
          "text": [
            "Given helleh is a palindrome.\n"
          ]
        }
      ],
      "source": [
        "palindrome('helleh')"
      ]
    },
    {
      "attachments": {},
      "cell_type": "markdown",
      "metadata": {
        "id": "3a2N6cOkbRO3"
      },
      "source": [
        "## Question Fourteen\n",
        "Points : 2.5"
      ]
    },
    {
      "attachments": {},
      "cell_type": "markdown",
      "metadata": {
        "id": "ZglZKEBk8P8v"
      },
      "source": [
        "\n",
        "**Write a Python function to check whether a string is pangram or not. (Assume the string passed in does not have any punctuation)**\n",
        "\n",
        "    Note : Pangrams are words or sentences containing every letter of the alphabet at least once.\n",
        "    For example : \"The quick brown fox jumps over the lazy dog\"\n"
      ]
    },
    {
      "cell_type": "code",
      "execution_count": 48,
      "metadata": {
        "collapsed": true,
        "id": "yddAUm4q8P8w"
      },
      "outputs": [],
      "source": [
        "import string\n",
        "\n",
        "def ispangram(s):\n",
        "    alphabet = \"abcdefghijklmnopqrstuvwxyz\"\n",
        "    s = s.lower()\n",
        "\n",
        "    for i in alphabet:\n",
        "        if i not in s:\n",
        "            return False\n",
        "\n",
        "    return True\n"
      ]
    },
    {
      "cell_type": "code",
      "execution_count": 49,
      "metadata": {},
      "outputs": [
        {
          "data": {
            "text/plain": [
              "False"
            ]
          },
          "execution_count": 49,
          "metadata": {},
          "output_type": "execute_result"
        }
      ],
      "source": [
        "ispangram(\"The quick brown fox jumps\")"
      ]
    },
    {
      "cell_type": "code",
      "execution_count": 50,
      "metadata": {
        "id": "lbJkVFz18P8w",
        "outputId": "bf096586-6303-414d-ae74-fff14751b4b3"
      },
      "outputs": [
        {
          "data": {
            "text/plain": [
              "True"
            ]
          },
          "execution_count": 50,
          "metadata": {},
          "output_type": "execute_result"
        }
      ],
      "source": [
        "ispangram(\"The quick brown fox jumps over the lazy dog\")"
      ]
    },
    {
      "attachments": {},
      "cell_type": "markdown",
      "metadata": {
        "id": "12Xq7f2-bTpM"
      },
      "source": [
        "## Question Fifteen\n",
        "Points : 5"
      ]
    },
    {
      "attachments": {},
      "cell_type": "markdown",
      "metadata": {
        "id": "1tQN6Z4SbqkK"
      },
      "source": [
        "Toll gates have different fees based on the time of day, weekdays/weekends. Write a function that has three parameters: the current hour of time (int), time is morning (boolean) and whether the day is a weekend(boolean). The function returns the correct toll fee (float), based on the chart below.\n",
        "\n",
        "    Weekday Tolls\n",
        "\n",
        "    Before 7:00 am ($1.15)\n",
        "    7:00 am to 9:59 am ($2.95)\n",
        "    10:00 am to 2:59 pm ($1.90)\n",
        "    3:00 pm to 7:59 pm ($3.95)\n",
        "    Starting 8:00 pm ($1.40)\n",
        "    \n",
        "    Weekend Tolls\n",
        "\n",
        "    Before 7:00 am ($1.05)\n",
        "    7:00 am to 7:59 pm ($2.15)\n",
        "    Starting 8:00 pm ($1.10)\n",
        "\n",
        "    input : toll_fee(8, True, False) \n",
        "    Output : $ 2.95\n"
      ]
    },
    {
      "cell_type": "code",
      "execution_count": 51,
      "metadata": {
        "id": "8wIRatoUc4rN"
      },
      "outputs": [],
      "source": [
        "#define your code here\n",
        "\n",
        "def toll_fee(hour, morning,weekend):\n",
        "  toll = None\n",
        "  if weekend:\n",
        "    if hour < 7:\n",
        "        toll = 1.05\n",
        "    elif hour < 20:\n",
        "        toll = 2.15\n",
        "    else:\n",
        "        toll = 1.10\n",
        "  else:\n",
        "    if hour < 7:\n",
        "        toll = 1.15\n",
        "    elif hour < 10:\n",
        "        toll = 2.95\n",
        "    elif hour < 15:\n",
        "        toll = 1.90\n",
        "    elif hour < 20:\n",
        "        toll = 3.95\n",
        "    else:\n",
        "        toll = 1.40\n",
        "    round_trip = np.round(2 * toll, 2)\n",
        "    return toll, round_trip"
      ]
    },
    {
      "cell_type": "code",
      "execution_count": 52,
      "metadata": {
        "id": "cVHmOwIYdE0-"
      },
      "outputs": [
        {
          "name": "stdout",
          "output_type": "stream",
          "text": [
            "The fee of the hour: $2.95, and the round-trip fee is $5.9.\n"
          ]
        }
      ],
      "source": [
        "#call your function\n",
        "\n",
        "toll, round_trip = toll_fee(8, True, False)\n",
        "print(f\"The fee of the hour: ${toll}, and the round-trip fee is ${round_trip}.\")"
      ]
    },
    {
      "attachments": {},
      "cell_type": "markdown",
      "metadata": {
        "id": "QYvtpZXAdaG-"
      },
      "source": [
        "*If you extend the program to add roud trip fee extra credit point 5 will be awarded.*"
      ]
    },
    {
      "attachments": {},
      "cell_type": "markdown",
      "metadata": {
        "id": "m05eI0qx0yQ-"
      },
      "source": [
        "## Question Sixteen\n",
        "Points : 2.5"
      ]
    },
    {
      "attachments": {},
      "cell_type": "markdown",
      "metadata": {
        "id": "jXU5VenxzlCd"
      },
      "source": [
        "### Branching  staements\n",
        "if - elif -  else"
      ]
    },
    {
      "attachments": {},
      "cell_type": "markdown",
      "metadata": {
        "id": "EBvh7mBzxy5-"
      },
      "source": [
        "Given three values a, b, c, check which value is minimum and remove that value from other values. Write an algorithm.\n",
        "\n",
        "        Ex: If the input is:\n",
        "        a = 130\n",
        "        b = 50\n",
        "        c = 130\n",
        "        The output is:\n",
        "        a = 80\n",
        "        b = 0 \n",
        "        c = 80"
      ]
    },
    {
      "cell_type": "code",
      "execution_count": 53,
      "metadata": {
        "id": "wptHro-c35NL"
      },
      "outputs": [],
      "source": [
        "def min_val_remover(lst):\n",
        "    min_val = min(lst)\n",
        "    for index, value in enumerate(lst):\n",
        "        lst[index] = value - min_val\n",
        "    print(f'a = {lst[0]}')\n",
        "    print(f'b = {lst[1]}')\n",
        "    print(f'c = {lst[2]}')"
      ]
    },
    {
      "cell_type": "code",
      "execution_count": 54,
      "metadata": {},
      "outputs": [
        {
          "name": "stdout",
          "output_type": "stream",
          "text": [
            "a = 80\n",
            "b = 0\n",
            "c = 80\n"
          ]
        }
      ],
      "source": [
        "min_val_remover([130, 50, 130])"
      ]
    },
    {
      "attachments": {},
      "cell_type": "markdown",
      "metadata": {
        "id": "ecLWyibk1D-K"
      },
      "source": [
        "## Question Seventeen\n",
        "Points : 5"
      ]
    },
    {
      "attachments": {},
      "cell_type": "markdown",
      "metadata": {
        "id": "ODYKstn3z2XL"
      },
      "source": [
        "Write a program that takes in a year and determines whether that year is a leap year.\n",
        "\n",
        "      Ex: If the input is:  1712\n",
        "          the output is: 1712 - leap year\n",
        "\n",
        "          Note : 1) The year must be divisible by 4\n",
        "                  2) If the year is a century year (1700, 1800, etc.), the year must be evenly divisible by 400"
      ]
    },
    {
      "cell_type": "code",
      "execution_count": 55,
      "metadata": {
        "id": "lpqlkM_R56wf"
      },
      "outputs": [],
      "source": [
        "#Define your function here\n",
        "def leap_year(year):\n",
        "    is_leap_year = None\n",
        "    if year % 2 == 0:\n",
        "        is_leap_year = True\n",
        "        print(f'{year} - leap year')\n",
        "    else:\n",
        "        is_leap_year = False\n",
        "        print(f'{year} - not a leap year')"
      ]
    },
    {
      "cell_type": "code",
      "execution_count": 56,
      "metadata": {},
      "outputs": [
        {
          "name": "stdout",
          "output_type": "stream",
          "text": [
            "1712 - leap year\n"
          ]
        }
      ],
      "source": [
        "leap_year(1712)"
      ]
    },
    {
      "attachments": {},
      "cell_type": "markdown",
      "metadata": {
        "id": "7gpChkqW1Idz"
      },
      "source": [
        "## Question Eighteen\n",
        "Points : 5"
      ]
    },
    {
      "attachments": {},
      "cell_type": "markdown",
      "metadata": {
        "id": "BM0zCQmi7pCv"
      },
      "source": [
        "### Loops"
      ]
    },
    {
      "attachments": {},
      "cell_type": "markdown",
      "metadata": {
        "id": "H4YqppqW-wmf"
      },
      "source": [
        "Write a program that takes a simple password and makes it stronger by replacing certain characters as per list below and appending \"!\" to the end of the input string.\n",
        "\n",
        "        i becomes 1\n",
        "        a becomes @\n",
        "        m becomes M\n",
        "        B becomes 8\n",
        "        s becomes $\n",
        "        z becomes 2\n",
        "        o becomes 0\n",
        "        \n",
        "        If the input is: mypassword\n",
        "        the output is: Myp@$$w0rd!"
      ]
    },
    {
      "cell_type": "code",
      "execution_count": 57,
      "metadata": {
        "id": "4qjMTqb7_oss"
      },
      "outputs": [],
      "source": [
        "special_char_replacer = {\n",
        "    'i':'1',\n",
        "    'a':'@',\n",
        "    'm':'M',\n",
        "    'B':'8',\n",
        "    's':'$',\n",
        "    'z':'2',\n",
        "    'o':'0'\n",
        "}"
      ]
    },
    {
      "cell_type": "code",
      "execution_count": 58,
      "metadata": {},
      "outputs": [],
      "source": [
        "def password_strengthner(weak_password):\n",
        "    strong_password = ''\n",
        "    for char in weak_password:\n",
        "        if char.lower() in special_char_replacer:\n",
        "            strong_password += special_char_replacer[char.lower()]\n",
        "        else:\n",
        "            strong_password += char\n",
        "\n",
        "    return strong_password + '!'"
      ]
    },
    {
      "cell_type": "code",
      "execution_count": 59,
      "metadata": {},
      "outputs": [
        {
          "data": {
            "text/plain": [
              "'Myp@$$w0rd!'"
            ]
          },
          "execution_count": 59,
          "metadata": {},
          "output_type": "execute_result"
        }
      ],
      "source": [
        "password_strengthner('mypassword')"
      ]
    },
    {
      "attachments": {},
      "cell_type": "markdown",
      "metadata": {
        "id": "4SI7Buuu1Ku-"
      },
      "source": [
        "## Question Nineteen\n",
        "Points : 2.5"
      ]
    },
    {
      "attachments": {},
      "cell_type": "markdown",
      "metadata": {
        "id": "lZIJMR6FAKWH"
      },
      "source": [
        "Write a program to get 10 multiples of anynumber given.\n",
        "\n",
        "    Example: if Number = 5\n",
        "    Output :5,10,15,20,25,30,35,40,45,50"
      ]
    },
    {
      "cell_type": "code",
      "execution_count": 60,
      "metadata": {},
      "outputs": [],
      "source": [
        "def multiples(number):\n",
        "    multiples = []\n",
        "\n",
        "    for i in range(1, 11):\n",
        "        multiples.append(number * i)\n",
        "\n",
        "    return multiples"
      ]
    },
    {
      "cell_type": "code",
      "execution_count": 61,
      "metadata": {},
      "outputs": [
        {
          "data": {
            "text/plain": [
              "[5, 10, 15, 20, 25, 30, 35, 40, 45, 50]"
            ]
          },
          "execution_count": 61,
          "metadata": {},
          "output_type": "execute_result"
        }
      ],
      "source": [
        "multiples(5)"
      ]
    }
  ],
  "metadata": {
    "anaconda-cloud": {},
    "colab": {
      "provenance": []
    },
    "kernelspec": {
      "display_name": "Python 3",
      "language": "python",
      "name": "python3"
    },
    "language_info": {
      "codemirror_mode": {
        "name": "ipython",
        "version": 3
      },
      "file_extension": ".py",
      "mimetype": "text/x-python",
      "name": "python",
      "nbconvert_exporter": "python",
      "pygments_lexer": "ipython3",
      "version": "3.10.5"
    }
  },
  "nbformat": 4,
  "nbformat_minor": 0
}
